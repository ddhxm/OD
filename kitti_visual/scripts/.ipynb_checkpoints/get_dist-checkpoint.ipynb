{
 "cells": [
  {
   "cell_type": "code",
   "execution_count": 8,
   "metadata": {},
   "outputs": [],
   "source": [
    "import pandas as pd\n",
    "import numpy as np\n",
    "import os \n",
    "\n",
    "DATA_PATH = '/home/jiez/TrajectoryPrediction/kitti/RawData/2011_09_26/2011_09_26_drive_0005_sync'\n",
    "\n",
    "IMU_COLUMN_NAMES = ['lat', 'lon', 'alt', 'roll', 'pitch', 'yaw', 'vn', 've', 'vf', 'vl', 'vu', \n",
    "                    'ax', 'ay', 'az', 'af', 'al', 'au', 'wx', 'wy', 'wz', 'wf', 'wl', 'wu',\n",
    "                    'posacc', 'velacc', 'navstat', 'numsats', 'posmode', 'velmode', 'orimode']\n",
    "\n",
    "def read_imu(path):\n",
    "    df = pd.read_csv(path, header=None, sep=' ')\n",
    "    df.columns = IMU_COLUMN_NAMES\n",
    "    return df\n",
    "\n",
    "def compute_great_circle_distance(lat1, lon1, lat2, lon2):\n",
    "    delta_sigma = float(np.sin(lat1 * np.pi / 180) * np.sin(lat2 * np.pi / 180) + \\\n",
    "                        np.cos(lat1 * np.pi / 180) * np.cos(lat2 * np.pi / 180)) * np.cos(lon1 * np.pi / 180 - lon2 * np.pi / 180)\n",
    "    return 6371000.0 * np.arccos(np.clip(delta_sigma, -1, 1))"
   ]
  },
  {
   "cell_type": "code",
   "execution_count": 17,
   "metadata": {},
   "outputs": [
    {
     "name": "stdout",
     "output_type": "stream",
     "text": [
      "1\n"
     ]
    },
    {
     "ename": "ValueError",
     "evalue": "Length of passed values is 0, index implies 1",
     "output_type": "error",
     "traceback": [
      "\u001b[0;31m---------------------------------------------------------------------------\u001b[0m",
      "\u001b[0;31mValueError\u001b[0m                                Traceback (most recent call last)",
      "\u001b[0;32m<ipython-input-17-bacfdd0ca0ea>\u001b[0m in \u001b[0;36m<module>\u001b[0;34m()\u001b[0m\n\u001b[1;32m      5\u001b[0m     \u001b[0;32mif\u001b[0m \u001b[0mprev_imu_data\u001b[0m \u001b[0;32mis\u001b[0m \u001b[0;32mnot\u001b[0m \u001b[0mNone\u001b[0m\u001b[0;34m:\u001b[0m\u001b[0;34m\u001b[0m\u001b[0m\n\u001b[1;32m      6\u001b[0m         \u001b[0;32mprint\u001b[0m\u001b[0;34m(\u001b[0m\u001b[0mframe\u001b[0m\u001b[0;34m)\u001b[0m\u001b[0;34m\u001b[0m\u001b[0m\n\u001b[0;32m----> 7\u001b[0;31m         \u001b[0mgps_distances\u001b[0m \u001b[0;34m+=\u001b[0m \u001b[0mcompute_great_circle_distance\u001b[0m\u001b[0;34m(\u001b[0m\u001b[0mimu_data\u001b[0m\u001b[0;34m.\u001b[0m\u001b[0mlat\u001b[0m\u001b[0;34m,\u001b[0m \u001b[0mimu_data\u001b[0m\u001b[0;34m.\u001b[0m\u001b[0mlon\u001b[0m\u001b[0;34m,\u001b[0m \u001b[0mprev_imu_data\u001b[0m\u001b[0;34m.\u001b[0m\u001b[0mlat\u001b[0m\u001b[0;34m,\u001b[0m \u001b[0mprev_imu_data\u001b[0m\u001b[0;34m.\u001b[0m\u001b[0mlon\u001b[0m\u001b[0;34m)\u001b[0m\u001b[0;34m\u001b[0m\u001b[0m\n\u001b[0m\u001b[1;32m      8\u001b[0m     \u001b[0mprev_imu_data\u001b[0m \u001b[0;34m=\u001b[0m \u001b[0mimu_data\u001b[0m\u001b[0;34m\u001b[0m\u001b[0m\n",
      "\u001b[0;32m/home/jiez/.local/lib/python2.7/site-packages/pandas/core/ops.pyc\u001b[0m in \u001b[0;36mwrapper\u001b[0;34m(left, right)\u001b[0m\n\u001b[1;32m   1583\u001b[0m         \u001b[0mresult\u001b[0m \u001b[0;34m=\u001b[0m \u001b[0msafe_na_op\u001b[0m\u001b[0;34m(\u001b[0m\u001b[0mlvalues\u001b[0m\u001b[0;34m,\u001b[0m \u001b[0mrvalues\u001b[0m\u001b[0;34m)\u001b[0m\u001b[0;34m\u001b[0m\u001b[0m\n\u001b[1;32m   1584\u001b[0m         return construct_result(left, result,\n\u001b[0;32m-> 1585\u001b[0;31m                                 index=left.index, name=res_name, dtype=None)\n\u001b[0m\u001b[1;32m   1586\u001b[0m \u001b[0;34m\u001b[0m\u001b[0m\n\u001b[1;32m   1587\u001b[0m     \u001b[0mwrapper\u001b[0m\u001b[0;34m.\u001b[0m\u001b[0m__name__\u001b[0m \u001b[0;34m=\u001b[0m \u001b[0mop_name\u001b[0m\u001b[0;34m\u001b[0m\u001b[0m\n",
      "\u001b[0;32m/home/jiez/.local/lib/python2.7/site-packages/pandas/core/ops.pyc\u001b[0m in \u001b[0;36m_construct_result\u001b[0;34m(left, result, index, name, dtype)\u001b[0m\n\u001b[1;32m   1472\u001b[0m     \u001b[0;32mnot\u001b[0m \u001b[0mbe\u001b[0m \u001b[0menough\u001b[0m\u001b[0;34m;\u001b[0m \u001b[0mwe\u001b[0m \u001b[0mstill\u001b[0m \u001b[0mneed\u001b[0m \u001b[0mto\u001b[0m \u001b[0moverride\u001b[0m \u001b[0mthe\u001b[0m \u001b[0mname\u001b[0m \u001b[0mattribute\u001b[0m\u001b[0;34m.\u001b[0m\u001b[0;34m\u001b[0m\u001b[0m\n\u001b[1;32m   1473\u001b[0m     \"\"\"\n\u001b[0;32m-> 1474\u001b[0;31m     \u001b[0mout\u001b[0m \u001b[0;34m=\u001b[0m \u001b[0mleft\u001b[0m\u001b[0;34m.\u001b[0m\u001b[0m_constructor\u001b[0m\u001b[0;34m(\u001b[0m\u001b[0mresult\u001b[0m\u001b[0;34m,\u001b[0m \u001b[0mindex\u001b[0m\u001b[0;34m=\u001b[0m\u001b[0mindex\u001b[0m\u001b[0;34m,\u001b[0m \u001b[0mdtype\u001b[0m\u001b[0;34m=\u001b[0m\u001b[0mdtype\u001b[0m\u001b[0;34m)\u001b[0m\u001b[0;34m\u001b[0m\u001b[0m\n\u001b[0m\u001b[1;32m   1475\u001b[0m \u001b[0;34m\u001b[0m\u001b[0m\n\u001b[1;32m   1476\u001b[0m     \u001b[0mout\u001b[0m\u001b[0;34m.\u001b[0m\u001b[0mname\u001b[0m \u001b[0;34m=\u001b[0m \u001b[0mname\u001b[0m\u001b[0;34m\u001b[0m\u001b[0m\n",
      "\u001b[0;32m/home/jiez/.local/lib/python2.7/site-packages/pandas/core/series.pyc\u001b[0m in \u001b[0;36m__init__\u001b[0;34m(self, data, index, dtype, name, copy, fastpath)\u001b[0m\n\u001b[1;32m    247\u001b[0m                             \u001b[0;34m'Length of passed values is {val}, '\u001b[0m\u001b[0;34m\u001b[0m\u001b[0m\n\u001b[1;32m    248\u001b[0m                             \u001b[0;34m'index implies {ind}'\u001b[0m\u001b[0;34m\u001b[0m\u001b[0m\n\u001b[0;32m--> 249\u001b[0;31m                             .format(val=len(data), ind=len(index)))\n\u001b[0m\u001b[1;32m    250\u001b[0m                 \u001b[0;32mexcept\u001b[0m \u001b[0mTypeError\u001b[0m\u001b[0;34m:\u001b[0m\u001b[0;34m\u001b[0m\u001b[0m\n\u001b[1;32m    251\u001b[0m                     \u001b[0;32mpass\u001b[0m\u001b[0;34m\u001b[0m\u001b[0m\n",
      "\u001b[0;31mValueError\u001b[0m: Length of passed values is 0, index implies 1"
     ]
    }
   ],
   "source": [
    "prev_imu_data = None\n",
    "gps_distances = []\n",
    "for frame in range(150):\n",
    "    imu_data = read_imu((os.path.join(DATA_PATH, 'oxts/data/%010d.txt'%frame)))\n",
    "    if prev_imu_data is not None:\n",
    "        print(frame)\n",
    "        gps_distances += [compute_great_circle_distance(imu_data.lat, imu_data.lon, prev_imu_data.lat, prev_imu_data.lon)]\n",
    "    prev_imu_data = imu_data"
   ]
  },
  {
   "cell_type": "code",
   "execution_count": 5,
   "metadata": {},
   "outputs": [
    {
     "data": {
      "text/html": [
       "<div>\n",
       "<style scoped>\n",
       "    .dataframe tbody tr th:only-of-type {\n",
       "        vertical-align: middle;\n",
       "    }\n",
       "\n",
       "    .dataframe tbody tr th {\n",
       "        vertical-align: top;\n",
       "    }\n",
       "\n",
       "    .dataframe thead th {\n",
       "        text-align: right;\n",
       "    }\n",
       "</style>\n",
       "<table border=\"1\" class=\"dataframe\">\n",
       "  <thead>\n",
       "    <tr style=\"text-align: right;\">\n",
       "      <th></th>\n",
       "      <th>lat</th>\n",
       "      <th>lon</th>\n",
       "      <th>alt</th>\n",
       "      <th>roll</th>\n",
       "      <th>pitch</th>\n",
       "      <th>yaw</th>\n",
       "      <th>vn</th>\n",
       "      <th>ve</th>\n",
       "      <th>vf</th>\n",
       "      <th>vl</th>\n",
       "      <th>...</th>\n",
       "      <th>wf</th>\n",
       "      <th>wl</th>\n",
       "      <th>wu</th>\n",
       "      <th>posacc</th>\n",
       "      <th>velacc</th>\n",
       "      <th>navstat</th>\n",
       "      <th>numsats</th>\n",
       "      <th>posmode</th>\n",
       "      <th>velmode</th>\n",
       "      <th>orimode</th>\n",
       "    </tr>\n",
       "  </thead>\n",
       "  <tbody>\n",
       "    <tr>\n",
       "      <th>0</th>\n",
       "      <td>49.011213</td>\n",
       "      <td>8.422885</td>\n",
       "      <td>112.834923</td>\n",
       "      <td>0.022447</td>\n",
       "      <td>0.00001</td>\n",
       "      <td>-1.22191</td>\n",
       "      <td>-3.325632</td>\n",
       "      <td>1.138431</td>\n",
       "      <td>3.514768</td>\n",
       "      <td>0.037625</td>\n",
       "      <td>...</td>\n",
       "      <td>-0.017499</td>\n",
       "      <td>0.021393</td>\n",
       "      <td>0.14563</td>\n",
       "      <td>0.492294</td>\n",
       "      <td>0.068884</td>\n",
       "      <td>4</td>\n",
       "      <td>10</td>\n",
       "      <td>4</td>\n",
       "      <td>4</td>\n",
       "      <td>0</td>\n",
       "    </tr>\n",
       "  </tbody>\n",
       "</table>\n",
       "<p>1 rows × 30 columns</p>\n",
       "</div>"
      ],
      "text/plain": [
       "         lat       lon         alt      roll    pitch      yaw        vn  \\\n",
       "0  49.011213  8.422885  112.834923  0.022447  0.00001 -1.22191 -3.325632   \n",
       "\n",
       "         ve        vf        vl  ...        wf        wl       wu    posacc  \\\n",
       "0  1.138431  3.514768  0.037625  ... -0.017499  0.021393  0.14563  0.492294   \n",
       "\n",
       "     velacc  navstat  numsats  posmode  velmode  orimode  \n",
       "0  0.068884        4       10        4        4        0  \n",
       "\n",
       "[1 rows x 30 columns]"
      ]
     },
     "execution_count": 5,
     "metadata": {},
     "output_type": "execute_result"
    }
   ],
   "source": [
    "read_imu((os.path.join(DATA_PATH, 'oxts/data/%010d.txt'%0)))"
   ]
  },
  {
   "cell_type": "code",
   "execution_count": 6,
   "metadata": {},
   "outputs": [
    {
     "data": {
      "text/html": [
       "<div>\n",
       "<style scoped>\n",
       "    .dataframe tbody tr th:only-of-type {\n",
       "        vertical-align: middle;\n",
       "    }\n",
       "\n",
       "    .dataframe tbody tr th {\n",
       "        vertical-align: top;\n",
       "    }\n",
       "\n",
       "    .dataframe thead th {\n",
       "        text-align: right;\n",
       "    }\n",
       "</style>\n",
       "<table border=\"1\" class=\"dataframe\">\n",
       "  <thead>\n",
       "    <tr style=\"text-align: right;\">\n",
       "      <th></th>\n",
       "      <th>lat</th>\n",
       "      <th>lon</th>\n",
       "      <th>alt</th>\n",
       "      <th>roll</th>\n",
       "      <th>pitch</th>\n",
       "      <th>yaw</th>\n",
       "      <th>vn</th>\n",
       "      <th>ve</th>\n",
       "      <th>vf</th>\n",
       "      <th>vl</th>\n",
       "      <th>...</th>\n",
       "      <th>wf</th>\n",
       "      <th>wl</th>\n",
       "      <th>wu</th>\n",
       "      <th>posacc</th>\n",
       "      <th>velacc</th>\n",
       "      <th>navstat</th>\n",
       "      <th>numsats</th>\n",
       "      <th>posmode</th>\n",
       "      <th>velmode</th>\n",
       "      <th>orimode</th>\n",
       "    </tr>\n",
       "  </thead>\n",
       "  <tbody>\n",
       "    <tr>\n",
       "      <th>0</th>\n",
       "      <td>49.01121</td>\n",
       "      <td>8.422887</td>\n",
       "      <td>112.846901</td>\n",
       "      <td>0.022857</td>\n",
       "      <td>0.004342</td>\n",
       "      <td>-1.206077</td>\n",
       "      <td>-3.288107</td>\n",
       "      <td>1.166745</td>\n",
       "      <td>3.488639</td>\n",
       "      <td>0.054704</td>\n",
       "      <td>...</td>\n",
       "      <td>-0.004166</td>\n",
       "      <td>0.044282</td>\n",
       "      <td>0.139954</td>\n",
       "      <td>0.492294</td>\n",
       "      <td>0.068884</td>\n",
       "      <td>4</td>\n",
       "      <td>10</td>\n",
       "      <td>4</td>\n",
       "      <td>4</td>\n",
       "      <td>0</td>\n",
       "    </tr>\n",
       "  </tbody>\n",
       "</table>\n",
       "<p>1 rows × 30 columns</p>\n",
       "</div>"
      ],
      "text/plain": [
       "        lat       lon         alt      roll     pitch       yaw        vn  \\\n",
       "0  49.01121  8.422887  112.846901  0.022857  0.004342 -1.206077 -3.288107   \n",
       "\n",
       "         ve        vf        vl  ...        wf        wl        wu    posacc  \\\n",
       "0  1.166745  3.488639  0.054704  ... -0.004166  0.044282  0.139954  0.492294   \n",
       "\n",
       "     velacc  navstat  numsats  posmode  velmode  orimode  \n",
       "0  0.068884        4       10        4        4        0  \n",
       "\n",
       "[1 rows x 30 columns]"
      ]
     },
     "execution_count": 6,
     "metadata": {},
     "output_type": "execute_result"
    }
   ],
   "source": [
    "read_imu((os.path.join(DATA_PATH, 'oxts/data/%010d.txt'%1)))"
   ]
  },
  {
   "cell_type": "code",
   "execution_count": null,
   "metadata": {},
   "outputs": [],
   "source": []
  }
 ],
 "metadata": {
  "kernelspec": {
   "display_name": "Python 2",
   "language": "python",
   "name": "python2"
  },
  "language_info": {
   "codemirror_mode": {
    "name": "ipython",
    "version": 2
   },
   "file_extension": ".py",
   "mimetype": "text/x-python",
   "name": "python",
   "nbconvert_exporter": "python",
   "pygments_lexer": "ipython2",
   "version": "2.7.17"
  }
 },
 "nbformat": 4,
 "nbformat_minor": 2
}
